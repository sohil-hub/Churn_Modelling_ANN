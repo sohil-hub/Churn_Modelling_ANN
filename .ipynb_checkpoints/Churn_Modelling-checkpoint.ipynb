{
 "cells": [
  {
   "cell_type": "markdown",
   "metadata": {
    "id": "lP6JLo1tGNBg"
   },
   "source": [
    "# Artificial Neural Network"
   ]
  },
  {
   "cell_type": "markdown",
   "metadata": {
    "id": "gWZyYmS_UE_L"
   },
   "source": [
    "### Importing the libraries"
   ]
  },
  {
   "cell_type": "code",
   "execution_count": 1,
   "metadata": {
    "id": "jRLMPWYwW9XF"
   },
   "outputs": [],
   "source": [
    "import pandas as pd\n",
    "import numpy as np\n",
    "import tensorflow as tf"
   ]
  },
  {
   "cell_type": "code",
   "execution_count": 2,
   "metadata": {
    "colab": {
     "base_uri": "https://localhost:8080/",
     "height": 35
    },
    "id": "oSRtJs-QXDVh",
    "outputId": "877658bb-1880-4db2-eb83-28b02ea73f81"
   },
   "outputs": [
    {
     "data": {
      "text/plain": [
       "'2.0.0'"
      ]
     },
     "execution_count": 2,
     "metadata": {},
     "output_type": "execute_result"
    }
   ],
   "source": [
    "tf.__version__"
   ]
  },
  {
   "cell_type": "markdown",
   "metadata": {
    "id": "1E0Q3aoKUCRX"
   },
   "source": [
    "## Part 1 - Data Preprocessing"
   ]
  },
  {
   "cell_type": "markdown",
   "metadata": {
    "id": "cKWAkFVGUU0Z"
   },
   "source": [
    "### Importing the dataset"
   ]
  },
  {
   "cell_type": "code",
   "execution_count": 3,
   "metadata": {
    "id": "MXUkhkMfU4wq"
   },
   "outputs": [],
   "source": [
    "dataset = pd.read_csv('Churn_Modelling.csv')\n",
    "X = dataset.iloc[:, 3:-1].values\n",
    "y = dataset.iloc[:, -1].values"
   ]
  },
  {
   "cell_type": "code",
   "execution_count": 4,
   "metadata": {
    "colab": {
     "base_uri": "https://localhost:8080/",
     "height": 224
    },
    "id": "Sg0AgjDG6CWl",
    "outputId": "de62fa73-255c-4704-fd30-ca4cf5376dfb"
   },
   "outputs": [
    {
     "data": {
      "text/html": [
       "<div>\n",
       "<style scoped>\n",
       "    .dataframe tbody tr th:only-of-type {\n",
       "        vertical-align: middle;\n",
       "    }\n",
       "\n",
       "    .dataframe tbody tr th {\n",
       "        vertical-align: top;\n",
       "    }\n",
       "\n",
       "    .dataframe thead th {\n",
       "        text-align: right;\n",
       "    }\n",
       "</style>\n",
       "<table border=\"1\" class=\"dataframe\">\n",
       "  <thead>\n",
       "    <tr style=\"text-align: right;\">\n",
       "      <th></th>\n",
       "      <th>RowNumber</th>\n",
       "      <th>CustomerId</th>\n",
       "      <th>Surname</th>\n",
       "      <th>CreditScore</th>\n",
       "      <th>Geography</th>\n",
       "      <th>Gender</th>\n",
       "      <th>Age</th>\n",
       "      <th>Tenure</th>\n",
       "      <th>Balance</th>\n",
       "      <th>NumOfProducts</th>\n",
       "      <th>HasCrCard</th>\n",
       "      <th>IsActiveMember</th>\n",
       "      <th>EstimatedSalary</th>\n",
       "      <th>Exited</th>\n",
       "    </tr>\n",
       "  </thead>\n",
       "  <tbody>\n",
       "    <tr>\n",
       "      <th>0</th>\n",
       "      <td>1</td>\n",
       "      <td>15634602</td>\n",
       "      <td>Hargrave</td>\n",
       "      <td>619</td>\n",
       "      <td>France</td>\n",
       "      <td>Female</td>\n",
       "      <td>42</td>\n",
       "      <td>2</td>\n",
       "      <td>0.00</td>\n",
       "      <td>1</td>\n",
       "      <td>1</td>\n",
       "      <td>1</td>\n",
       "      <td>101348.88</td>\n",
       "      <td>1</td>\n",
       "    </tr>\n",
       "    <tr>\n",
       "      <th>1</th>\n",
       "      <td>2</td>\n",
       "      <td>15647311</td>\n",
       "      <td>Hill</td>\n",
       "      <td>608</td>\n",
       "      <td>Spain</td>\n",
       "      <td>Female</td>\n",
       "      <td>41</td>\n",
       "      <td>1</td>\n",
       "      <td>83807.86</td>\n",
       "      <td>1</td>\n",
       "      <td>0</td>\n",
       "      <td>1</td>\n",
       "      <td>112542.58</td>\n",
       "      <td>0</td>\n",
       "    </tr>\n",
       "    <tr>\n",
       "      <th>2</th>\n",
       "      <td>3</td>\n",
       "      <td>15619304</td>\n",
       "      <td>Onio</td>\n",
       "      <td>502</td>\n",
       "      <td>France</td>\n",
       "      <td>Female</td>\n",
       "      <td>42</td>\n",
       "      <td>8</td>\n",
       "      <td>159660.80</td>\n",
       "      <td>3</td>\n",
       "      <td>1</td>\n",
       "      <td>0</td>\n",
       "      <td>113931.57</td>\n",
       "      <td>1</td>\n",
       "    </tr>\n",
       "    <tr>\n",
       "      <th>3</th>\n",
       "      <td>4</td>\n",
       "      <td>15701354</td>\n",
       "      <td>Boni</td>\n",
       "      <td>699</td>\n",
       "      <td>France</td>\n",
       "      <td>Female</td>\n",
       "      <td>39</td>\n",
       "      <td>1</td>\n",
       "      <td>0.00</td>\n",
       "      <td>2</td>\n",
       "      <td>0</td>\n",
       "      <td>0</td>\n",
       "      <td>93826.63</td>\n",
       "      <td>0</td>\n",
       "    </tr>\n",
       "    <tr>\n",
       "      <th>4</th>\n",
       "      <td>5</td>\n",
       "      <td>15737888</td>\n",
       "      <td>Mitchell</td>\n",
       "      <td>850</td>\n",
       "      <td>Spain</td>\n",
       "      <td>Female</td>\n",
       "      <td>43</td>\n",
       "      <td>2</td>\n",
       "      <td>125510.82</td>\n",
       "      <td>1</td>\n",
       "      <td>1</td>\n",
       "      <td>1</td>\n",
       "      <td>79084.10</td>\n",
       "      <td>0</td>\n",
       "    </tr>\n",
       "  </tbody>\n",
       "</table>\n",
       "</div>"
      ],
      "text/plain": [
       "   RowNumber  CustomerId   Surname  CreditScore Geography  Gender  Age  \\\n",
       "0          1    15634602  Hargrave          619    France  Female   42   \n",
       "1          2    15647311      Hill          608     Spain  Female   41   \n",
       "2          3    15619304      Onio          502    France  Female   42   \n",
       "3          4    15701354      Boni          699    France  Female   39   \n",
       "4          5    15737888  Mitchell          850     Spain  Female   43   \n",
       "\n",
       "   Tenure    Balance  NumOfProducts  HasCrCard  IsActiveMember  \\\n",
       "0       2       0.00              1          1               1   \n",
       "1       1   83807.86              1          0               1   \n",
       "2       8  159660.80              3          1               0   \n",
       "3       1       0.00              2          0               0   \n",
       "4       2  125510.82              1          1               1   \n",
       "\n",
       "   EstimatedSalary  Exited  \n",
       "0        101348.88       1  \n",
       "1        112542.58       0  \n",
       "2        113931.57       1  \n",
       "3         93826.63       0  \n",
       "4         79084.10       0  "
      ]
     },
     "execution_count": 4,
     "metadata": {},
     "output_type": "execute_result"
    }
   ],
   "source": [
    "dataset.head()"
   ]
  },
  {
   "cell_type": "code",
   "execution_count": 5,
   "metadata": {
    "colab": {
     "base_uri": "https://localhost:8080/"
    },
    "id": "VYP9cQTWbzuI",
    "outputId": "3134a4da-dc45-40e3-b9a2-781b5f33e068"
   },
   "outputs": [
    {
     "name": "stdout",
     "output_type": "stream",
     "text": [
      "[[619 'France' 'Female' ... 1 1 101348.88]\n",
      " [608 'Spain' 'Female' ... 0 1 112542.58]\n",
      " [502 'France' 'Female' ... 1 0 113931.57]\n",
      " ...\n",
      " [709 'France' 'Female' ... 0 1 42085.58]\n",
      " [772 'Germany' 'Male' ... 1 0 92888.52]\n",
      " [792 'France' 'Female' ... 1 0 38190.78]]\n"
     ]
    }
   ],
   "source": [
    "print(X)"
   ]
  },
  {
   "cell_type": "code",
   "execution_count": 6,
   "metadata": {
    "colab": {
     "base_uri": "https://localhost:8080/"
    },
    "id": "38vKGE6Nb2RR",
    "outputId": "dd141a1a-f773-47f0-c51a-7a042cec2525"
   },
   "outputs": [
    {
     "name": "stdout",
     "output_type": "stream",
     "text": [
      "[1 0 1 ... 1 1 0]\n"
     ]
    }
   ],
   "source": [
    "print(y)"
   ]
  },
  {
   "cell_type": "markdown",
   "metadata": {
    "id": "N6bQ0UgSU-NJ"
   },
   "source": [
    "### Encoding categorical data"
   ]
  },
  {
   "cell_type": "markdown",
   "metadata": {
    "id": "le5MJreAbW52"
   },
   "source": [
    "Label Encoding the \"Gender\" column"
   ]
  },
  {
   "cell_type": "code",
   "execution_count": 7,
   "metadata": {
    "id": "XcV0FKMT5_3O"
   },
   "outputs": [],
   "source": [
    "from sklearn.preprocessing import LabelEncoder\n",
    "le = LabelEncoder()\n",
    "X[:, 2] = le.fit_transform(X[:, 2])"
   ]
  },
  {
   "cell_type": "markdown",
   "metadata": {
    "id": "CUxGZezpbMcb"
   },
   "source": [
    "One Hot Encoding the \"Geography\" column"
   ]
  },
  {
   "cell_type": "code",
   "execution_count": 8,
   "metadata": {
    "id": "dT8vB6Kf6oB3"
   },
   "outputs": [],
   "source": [
    "from sklearn.compose import ColumnTransformer\n",
    "from sklearn.preprocessing import OneHotEncoder\n",
    "ct = ColumnTransformer(transformers=[('encoder', OneHotEncoder(), [1])], remainder='passthrough')\n",
    "X = np.array(ct.fit_transform(X))"
   ]
  },
  {
   "cell_type": "markdown",
   "metadata": {
    "id": "vHol938cW8zd"
   },
   "source": [
    "### Splitting the dataset into the Training set and Test set"
   ]
  },
  {
   "cell_type": "code",
   "execution_count": 9,
   "metadata": {
    "id": "Rl6DXcVz7kk5"
   },
   "outputs": [],
   "source": [
    "from sklearn.model_selection import train_test_split\n",
    "X_train, X_test, y_train, y_test = train_test_split(X, y, test_size=0.2, random_state=0)"
   ]
  },
  {
   "cell_type": "markdown",
   "metadata": {
    "id": "RE_FcHyfV3TQ"
   },
   "source": [
    "### Feature Scaling"
   ]
  },
  {
   "cell_type": "code",
   "execution_count": 10,
   "metadata": {
    "id": "NtvXN6Oy72co"
   },
   "outputs": [],
   "source": [
    "from sklearn.preprocessing import StandardScaler\n",
    "sc = StandardScaler()\n",
    "X_train = sc.fit_transform(X_train)\n",
    "X_test = sc.transform(X_test)"
   ]
  },
  {
   "cell_type": "markdown",
   "metadata": {
    "id": "-zfEzkRVXIwF"
   },
   "source": [
    "## Part 2 - Building the ANN"
   ]
  },
  {
   "cell_type": "markdown",
   "metadata": {
    "id": "KvdeScabXtlB"
   },
   "source": [
    "### Initializing the ANN"
   ]
  },
  {
   "cell_type": "code",
   "execution_count": 11,
   "metadata": {
    "id": "1ZPgNkhS8S5B"
   },
   "outputs": [],
   "source": [
    "ann = tf.keras.Sequential()"
   ]
  },
  {
   "cell_type": "markdown",
   "metadata": {
    "id": "rP6urV6SX7kS"
   },
   "source": [
    "### Adding the input layer and the first hidden layer"
   ]
  },
  {
   "cell_type": "code",
   "execution_count": 12,
   "metadata": {
    "id": "uZLc3VFy8ZBU"
   },
   "outputs": [],
   "source": [
    "ann.add(tf.keras.layers.Dense(units=6, activation='relu'))"
   ]
  },
  {
   "cell_type": "markdown",
   "metadata": {
    "id": "BELWAc_8YJze"
   },
   "source": [
    "### Adding the second hidden layer"
   ]
  },
  {
   "cell_type": "code",
   "execution_count": 13,
   "metadata": {
    "id": "vwd7fBfi8nnS"
   },
   "outputs": [],
   "source": [
    "ann.add(tf.keras.layers.Dense(units=6, activation='relu'))"
   ]
  },
  {
   "cell_type": "markdown",
   "metadata": {
    "id": "OyNEe6RXYcU4"
   },
   "source": [
    "### Adding the output layer"
   ]
  },
  {
   "cell_type": "code",
   "execution_count": 14,
   "metadata": {
    "id": "l1wNeLs18ptv"
   },
   "outputs": [],
   "source": [
    "ann.add(tf.keras.layers.Dense(units=1, activation='sigmoid'))"
   ]
  },
  {
   "cell_type": "markdown",
   "metadata": {
    "id": "JT4u2S1_Y4WG"
   },
   "source": [
    "## Part 3 - Training the ANN"
   ]
  },
  {
   "cell_type": "markdown",
   "metadata": {
    "id": "8GWlJChhY_ZI"
   },
   "source": [
    "### Compiling the ANN"
   ]
  },
  {
   "cell_type": "code",
   "execution_count": 15,
   "metadata": {
    "id": "V6ldAR6a8wOb"
   },
   "outputs": [],
   "source": [
    "ann.compile(optimizer='adam', loss='binary_crossentropy', metrics=['accuracy'])"
   ]
  },
  {
   "cell_type": "markdown",
   "metadata": {
    "id": "0QR_G5u7ZLSM"
   },
   "source": [
    "### Training the ANN on the Training set"
   ]
  },
  {
   "cell_type": "code",
   "execution_count": 16,
   "metadata": {
    "colab": {
     "base_uri": "https://localhost:8080/"
    },
    "id": "-y34XArP88wy",
    "outputId": "28af8d33-8300-4dde-8a06-afe8085066d6"
   },
   "outputs": [
    {
     "name": "stdout",
     "output_type": "stream",
     "text": [
      "Train on 8000 samples\n",
      "Epoch 1/100\n",
      "8000/8000 [==============================] - 1s 87us/sample - loss: 0.6371 - accuracy: 0.7168\n",
      "Epoch 2/100\n",
      "8000/8000 [==============================] - 0s 30us/sample - loss: 0.4950 - accuracy: 0.8049\n",
      "Epoch 3/100\n",
      "8000/8000 [==============================] - 0s 29us/sample - loss: 0.4324 - accuracy: 0.8146\n",
      "Epoch 4/100\n",
      "8000/8000 [==============================] - 0s 29us/sample - loss: 0.4122 - accuracy: 0.8224\n",
      "Epoch 5/100\n",
      "8000/8000 [==============================] - 0s 29us/sample - loss: 0.4007 - accuracy: 0.8249\n",
      "Epoch 6/100\n",
      "8000/8000 [==============================] - 0s 29us/sample - loss: 0.3887 - accuracy: 0.8350\n",
      "Epoch 7/100\n",
      "8000/8000 [==============================] - 0s 29us/sample - loss: 0.3730 - accuracy: 0.8486\n",
      "Epoch 8/100\n",
      "8000/8000 [==============================] - 0s 29us/sample - loss: 0.3642 - accuracy: 0.8521\n",
      "Epoch 9/100\n",
      "8000/8000 [==============================] - 0s 29us/sample - loss: 0.3597 - accuracy: 0.8520\n",
      "Epoch 10/100\n",
      "8000/8000 [==============================] - 0s 29us/sample - loss: 0.3566 - accuracy: 0.8537\n",
      "Epoch 11/100\n",
      "8000/8000 [==============================] - 0s 30us/sample - loss: 0.3546 - accuracy: 0.8529\n",
      "Epoch 12/100\n",
      "8000/8000 [==============================] - 0s 28us/sample - loss: 0.3531 - accuracy: 0.8555\n",
      "Epoch 13/100\n",
      "8000/8000 [==============================] - 0s 27us/sample - loss: 0.3514 - accuracy: 0.8554\n",
      "Epoch 14/100\n",
      "8000/8000 [==============================] - 0s 27us/sample - loss: 0.3499 - accuracy: 0.8565\n",
      "Epoch 15/100\n",
      "8000/8000 [==============================] - 0s 29us/sample - loss: 0.3486 - accuracy: 0.8590\n",
      "Epoch 16/100\n",
      "8000/8000 [==============================] - 0s 29us/sample - loss: 0.3478 - accuracy: 0.8571\n",
      "Epoch 17/100\n",
      "8000/8000 [==============================] - 0s 27us/sample - loss: 0.3465 - accuracy: 0.8568\n",
      "Epoch 18/100\n",
      "8000/8000 [==============================] - 0s 28us/sample - loss: 0.3454 - accuracy: 0.8589\n",
      "Epoch 19/100\n",
      "8000/8000 [==============================] - 0s 28us/sample - loss: 0.3448 - accuracy: 0.8577\n",
      "Epoch 20/100\n",
      "8000/8000 [==============================] - 0s 29us/sample - loss: 0.3437 - accuracy: 0.8579\n",
      "Epoch 21/100\n",
      "8000/8000 [==============================] - 0s 29us/sample - loss: 0.3430 - accuracy: 0.8581\n",
      "Epoch 22/100\n",
      "8000/8000 [==============================] - 0s 28us/sample - loss: 0.3424 - accuracy: 0.8574\n",
      "Epoch 23/100\n",
      "8000/8000 [==============================] - 0s 29us/sample - loss: 0.3416 - accuracy: 0.8600\n",
      "Epoch 24/100\n",
      "8000/8000 [==============================] - 0s 29us/sample - loss: 0.3413 - accuracy: 0.8611\n",
      "Epoch 25/100\n",
      "8000/8000 [==============================] - 0s 30us/sample - loss: 0.3405 - accuracy: 0.8606\n",
      "Epoch 26/100\n",
      "8000/8000 [==============================] - 0s 29us/sample - loss: 0.3401 - accuracy: 0.8601\n",
      "Epoch 27/100\n",
      "8000/8000 [==============================] - 0s 30us/sample - loss: 0.3397 - accuracy: 0.8615\n",
      "Epoch 28/100\n",
      "8000/8000 [==============================] - 0s 29us/sample - loss: 0.3397 - accuracy: 0.8587\n",
      "Epoch 29/100\n",
      "8000/8000 [==============================] - 0s 28us/sample - loss: 0.3390 - accuracy: 0.8608\n",
      "Epoch 30/100\n",
      "8000/8000 [==============================] - 0s 28us/sample - loss: 0.3386 - accuracy: 0.8593\n",
      "Epoch 31/100\n",
      "8000/8000 [==============================] - 0s 29us/sample - loss: 0.3381 - accuracy: 0.8605\n",
      "Epoch 32/100\n",
      "8000/8000 [==============================] - 0s 28us/sample - loss: 0.3380 - accuracy: 0.8591\n",
      "Epoch 33/100\n",
      "8000/8000 [==============================] - 0s 27us/sample - loss: 0.3375 - accuracy: 0.8596\n",
      "Epoch 34/100\n",
      "8000/8000 [==============================] - 0s 28us/sample - loss: 0.3375 - accuracy: 0.8589\n",
      "Epoch 35/100\n",
      "8000/8000 [==============================] - 0s 28us/sample - loss: 0.3371 - accuracy: 0.8591\n",
      "Epoch 36/100\n",
      "8000/8000 [==============================] - 0s 28us/sample - loss: 0.3373 - accuracy: 0.8610\n",
      "Epoch 37/100\n",
      "8000/8000 [==============================] - 0s 27us/sample - loss: 0.3369 - accuracy: 0.8616\n",
      "Epoch 38/100\n",
      "8000/8000 [==============================] - 0s 27us/sample - loss: 0.3367 - accuracy: 0.8589\n",
      "Epoch 39/100\n",
      "8000/8000 [==============================] - 0s 29us/sample - loss: 0.3364 - accuracy: 0.8609\n",
      "Epoch 40/100\n",
      "8000/8000 [==============================] - 0s 29us/sample - loss: 0.3367 - accuracy: 0.8609\n",
      "Epoch 41/100\n",
      "8000/8000 [==============================] - 0s 28us/sample - loss: 0.3362 - accuracy: 0.8609\n",
      "Epoch 42/100\n",
      "8000/8000 [==============================] - 0s 27us/sample - loss: 0.3363 - accuracy: 0.8602\n",
      "Epoch 43/100\n",
      "8000/8000 [==============================] - 0s 28us/sample - loss: 0.3361 - accuracy: 0.8604\n",
      "Epoch 44/100\n",
      "8000/8000 [==============================] - 0s 28us/sample - loss: 0.3359 - accuracy: 0.8601\n",
      "Epoch 45/100\n",
      "8000/8000 [==============================] - 0s 28us/sample - loss: 0.3356 - accuracy: 0.8620\n",
      "Epoch 46/100\n",
      "8000/8000 [==============================] - 0s 27us/sample - loss: 0.3357 - accuracy: 0.8612\n",
      "Epoch 47/100\n",
      "8000/8000 [==============================] - 0s 28us/sample - loss: 0.3357 - accuracy: 0.8612\n",
      "Epoch 48/100\n",
      "8000/8000 [==============================] - 0s 28us/sample - loss: 0.3360 - accuracy: 0.8610\n",
      "Epoch 49/100\n",
      "8000/8000 [==============================] - 0s 27us/sample - loss: 0.3352 - accuracy: 0.8614\n",
      "Epoch 50/100\n",
      "8000/8000 [==============================] - 0s 29us/sample - loss: 0.3349 - accuracy: 0.8625\n",
      "Epoch 51/100\n",
      "8000/8000 [==============================] - 0s 27us/sample - loss: 0.3350 - accuracy: 0.8629\n",
      "Epoch 52/100\n",
      "8000/8000 [==============================] - 0s 28us/sample - loss: 0.3352 - accuracy: 0.8615\n",
      "Epoch 53/100\n",
      "8000/8000 [==============================] - 0s 29us/sample - loss: 0.3345 - accuracy: 0.8621\n",
      "Epoch 54/100\n",
      "8000/8000 [==============================] - 0s 27us/sample - loss: 0.3344 - accuracy: 0.8625\n",
      "Epoch 55/100\n",
      "8000/8000 [==============================] - 0s 28us/sample - loss: 0.3346 - accuracy: 0.8630\n",
      "Epoch 56/100\n",
      "8000/8000 [==============================] - 0s 27us/sample - loss: 0.3342 - accuracy: 0.8626\n",
      "Epoch 57/100\n",
      "8000/8000 [==============================] - 0s 28us/sample - loss: 0.3342 - accuracy: 0.8618\n",
      "Epoch 58/100\n",
      "8000/8000 [==============================] - 0s 28us/sample - loss: 0.3340 - accuracy: 0.8619\n",
      "Epoch 59/100\n",
      "8000/8000 [==============================] - 0s 28us/sample - loss: 0.3344 - accuracy: 0.8626\n",
      "Epoch 60/100\n",
      "8000/8000 [==============================] - 0s 28us/sample - loss: 0.3341 - accuracy: 0.8636\n",
      "Epoch 61/100\n",
      "8000/8000 [==============================] - 0s 28us/sample - loss: 0.3338 - accuracy: 0.8626\n",
      "Epoch 62/100\n",
      "8000/8000 [==============================] - 0s 28us/sample - loss: 0.3336 - accuracy: 0.8627\n",
      "Epoch 63/100\n",
      "8000/8000 [==============================] - 0s 28us/sample - loss: 0.3338 - accuracy: 0.8633\n",
      "Epoch 64/100\n",
      "8000/8000 [==============================] - 0s 28us/sample - loss: 0.3339 - accuracy: 0.8627\n",
      "Epoch 65/100\n",
      "8000/8000 [==============================] - 0s 27us/sample - loss: 0.3336 - accuracy: 0.8640\n",
      "Epoch 66/100\n",
      "8000/8000 [==============================] - 0s 27us/sample - loss: 0.3334 - accuracy: 0.8614\n",
      "Epoch 67/100\n",
      "8000/8000 [==============================] - 0s 28us/sample - loss: 0.3336 - accuracy: 0.8635\n",
      "Epoch 68/100\n",
      "8000/8000 [==============================] - 0s 30us/sample - loss: 0.3333 - accuracy: 0.8625\n",
      "Epoch 69/100\n",
      "8000/8000 [==============================] - 0s 29us/sample - loss: 0.3332 - accuracy: 0.8622\n",
      "Epoch 70/100\n",
      "8000/8000 [==============================] - 0s 28us/sample - loss: 0.3333 - accuracy: 0.8637\n",
      "Epoch 71/100\n",
      "8000/8000 [==============================] - 0s 28us/sample - loss: 0.3331 - accuracy: 0.8610\n",
      "Epoch 72/100\n",
      "8000/8000 [==============================] - 0s 29us/sample - loss: 0.3336 - accuracy: 0.8627\n",
      "Epoch 73/100\n",
      "8000/8000 [==============================] - 0s 28us/sample - loss: 0.3330 - accuracy: 0.8633\n",
      "Epoch 74/100\n",
      "8000/8000 [==============================] - 0s 28us/sample - loss: 0.3332 - accuracy: 0.8643\n",
      "Epoch 75/100\n",
      "8000/8000 [==============================] - 0s 28us/sample - loss: 0.3329 - accuracy: 0.8626\n",
      "Epoch 76/100\n",
      "8000/8000 [==============================] - 0s 28us/sample - loss: 0.3328 - accuracy: 0.8630\n",
      "Epoch 77/100\n"
     ]
    },
    {
     "name": "stdout",
     "output_type": "stream",
     "text": [
      "8000/8000 [==============================] - 0s 28us/sample - loss: 0.3321 - accuracy: 0.8621\n",
      "Epoch 78/100\n",
      "8000/8000 [==============================] - 0s 27us/sample - loss: 0.3325 - accuracy: 0.8634\n",
      "Epoch 79/100\n",
      "8000/8000 [==============================] - 0s 27us/sample - loss: 0.3325 - accuracy: 0.8619\n",
      "Epoch 80/100\n",
      "8000/8000 [==============================] - 0s 27us/sample - loss: 0.3329 - accuracy: 0.8629\n",
      "Epoch 81/100\n",
      "8000/8000 [==============================] - 0s 27us/sample - loss: 0.3326 - accuracy: 0.8635\n",
      "Epoch 82/100\n",
      "8000/8000 [==============================] - 0s 27us/sample - loss: 0.3324 - accuracy: 0.8634\n",
      "Epoch 83/100\n",
      "8000/8000 [==============================] - 0s 27us/sample - loss: 0.3323 - accuracy: 0.8624\n",
      "Epoch 84/100\n",
      "8000/8000 [==============================] - 0s 27us/sample - loss: 0.3324 - accuracy: 0.8616\n",
      "Epoch 85/100\n",
      "8000/8000 [==============================] - 0s 28us/sample - loss: 0.3321 - accuracy: 0.8643\n",
      "Epoch 86/100\n",
      "8000/8000 [==============================] - 0s 28us/sample - loss: 0.3325 - accuracy: 0.8633\n",
      "Epoch 87/100\n",
      "8000/8000 [==============================] - 0s 27us/sample - loss: 0.3322 - accuracy: 0.8634\n",
      "Epoch 88/100\n",
      "8000/8000 [==============================] - 0s 27us/sample - loss: 0.3321 - accuracy: 0.8637\n",
      "Epoch 89/100\n",
      "8000/8000 [==============================] - 0s 30us/sample - loss: 0.3314 - accuracy: 0.8633\n",
      "Epoch 90/100\n",
      "8000/8000 [==============================] - 0s 31us/sample - loss: 0.3321 - accuracy: 0.8625\n",
      "Epoch 91/100\n",
      "8000/8000 [==============================] - 0s 28us/sample - loss: 0.3319 - accuracy: 0.8631\n",
      "Epoch 92/100\n",
      "8000/8000 [==============================] - 0s 27us/sample - loss: 0.3318 - accuracy: 0.8640\n",
      "Epoch 93/100\n",
      "8000/8000 [==============================] - 0s 27us/sample - loss: 0.3319 - accuracy: 0.8648\n",
      "Epoch 94/100\n",
      "8000/8000 [==============================] - 0s 27us/sample - loss: 0.3316 - accuracy: 0.8635\n",
      "Epoch 95/100\n",
      "8000/8000 [==============================] - 0s 28us/sample - loss: 0.3319 - accuracy: 0.8626\n",
      "Epoch 96/100\n",
      "8000/8000 [==============================] - 0s 27us/sample - loss: 0.3316 - accuracy: 0.8635\n",
      "Epoch 97/100\n",
      "8000/8000 [==============================] - 0s 27us/sample - loss: 0.3319 - accuracy: 0.8626\n",
      "Epoch 98/100\n",
      "8000/8000 [==============================] - 0s 27us/sample - loss: 0.3317 - accuracy: 0.8619\n",
      "Epoch 99/100\n",
      "8000/8000 [==============================] - 0s 27us/sample - loss: 0.3317 - accuracy: 0.8634\n",
      "Epoch 100/100\n",
      "8000/8000 [==============================] - 0s 28us/sample - loss: 0.3313 - accuracy: 0.8630\n"
     ]
    },
    {
     "data": {
      "text/plain": [
       "<tensorflow.python.keras.callbacks.History at 0x7fba716dad10>"
      ]
     },
     "execution_count": 16,
     "metadata": {},
     "output_type": "execute_result"
    }
   ],
   "source": [
    "ann.fit(X_train, y_train, batch_size = 32, epochs = 100)"
   ]
  },
  {
   "cell_type": "markdown",
   "metadata": {
    "id": "tJj5k2MxZga3"
   },
   "source": [
    "## Part 4 - Making the predictions and evaluating the model"
   ]
  },
  {
   "cell_type": "markdown",
   "metadata": {
    "id": "84QFoqGYeXHL"
   },
   "source": [
    "### Predicting the result of a single observation"
   ]
  },
  {
   "cell_type": "markdown",
   "metadata": {
    "id": "CGRo3eacgDdC"
   },
   "source": [
    "**Homework**\n",
    "\n",
    "Use our ANN model to predict if the customer with the following informations will leave the bank: \n",
    "\n",
    "Geography: France\n",
    "\n",
    "Credit Score: 600\n",
    "\n",
    "Gender: Male\n",
    "\n",
    "Age: 40 years old\n",
    "\n",
    "Tenure: 3 years\n",
    "\n",
    "Balance: \\$ 60000\n",
    "\n",
    "Number of Products: 2\n",
    "\n",
    "Does this customer have a credit card? Yes\n",
    "\n",
    "Is this customer an Active Member: Yes\n",
    "\n",
    "Estimated Salary: \\$ 50000\n",
    "\n",
    "So, should we say goodbye to that customer?"
   ]
  },
  {
   "cell_type": "markdown",
   "metadata": {
    "id": "ZhU1LTgPg-kH"
   },
   "source": [
    "**Solution**"
   ]
  },
  {
   "cell_type": "code",
   "execution_count": 17,
   "metadata": {
    "colab": {
     "base_uri": "https://localhost:8080/"
    },
    "id": "MQLyfTcI9FcE",
    "outputId": "41041b99-62ce-49de-8f72-7cce41175ca8"
   },
   "outputs": [
    {
     "name": "stdout",
     "output_type": "stream",
     "text": [
      "[[False]]\n"
     ]
    }
   ],
   "source": [
    "print(ann.predict(sc.transform([[1, 0, 0, 600, 1, 40, 3, 60000, 2, 1, 1, 50000]])) > 0.5)"
   ]
  },
  {
   "cell_type": "markdown",
   "metadata": {
    "id": "wGjx94g2n7OV"
   },
   "source": [
    "Therefore, our ANN model predicts that this customer stays in the bank!\n",
    "\n",
    "**Important note 1:** Notice that the values of the features were all input in a double pair of square brackets. That's because the \"predict\" method always expects a 2D array as the format of its inputs. And putting our values into a double pair of square brackets makes the input exactly a 2D array.\n",
    "\n",
    "**Important note 2:** Notice also that the \"France\" country was not input as a string in the last column but as \"1, 0, 0\" in the first three columns. That's because of course the predict method expects the one-hot-encoded values of the state, and as we see in the first row of the matrix of features X, \"France\" was encoded as \"1, 0, 0\". And be careful to include these values in the first three columns, because the dummy variables are always created in the first columns."
   ]
  },
  {
   "cell_type": "markdown",
   "metadata": {
    "id": "u7yx47jPZt11"
   },
   "source": [
    "### Predicting the Test set results"
   ]
  },
  {
   "cell_type": "code",
   "execution_count": 18,
   "metadata": {
    "colab": {
     "base_uri": "https://localhost:8080/"
    },
    "id": "DXt9vkra9JB2",
    "outputId": "31c2994c-9619-49fa-e3a2-6e493eba902e"
   },
   "outputs": [
    {
     "name": "stdout",
     "output_type": "stream",
     "text": [
      "[[0 0]\n",
      " [0 1]\n",
      " [0 0]\n",
      " ...\n",
      " [0 0]\n",
      " [0 0]\n",
      " [0 0]]\n"
     ]
    }
   ],
   "source": [
    "y_pred = ann.predict(X_test)\n",
    "y_pred = (y_pred > 0.5)\n",
    "print(np.concatenate((y_pred.reshape(len(y_pred),1), y_test.reshape(len(y_test),1)),1))"
   ]
  },
  {
   "cell_type": "markdown",
   "metadata": {
    "id": "o0oyfLWoaEGw"
   },
   "source": [
    "### Making the Confusion Matrix"
   ]
  },
  {
   "cell_type": "code",
   "execution_count": 19,
   "metadata": {
    "colab": {
     "base_uri": "https://localhost:8080/"
    },
    "id": "hlr6gNbv9Kwf",
    "outputId": "a1640509-c92a-49ec-bea6-5a7227da6dcf"
   },
   "outputs": [
    {
     "name": "stdout",
     "output_type": "stream",
     "text": [
      "[[1503   92]\n",
      " [ 188  217]]\n"
     ]
    },
    {
     "data": {
      "text/plain": [
       "0.86"
      ]
     },
     "execution_count": 19,
     "metadata": {},
     "output_type": "execute_result"
    }
   ],
   "source": [
    "from sklearn.metrics import confusion_matrix, accuracy_score\n",
    "cm = confusion_matrix(y_test, y_pred)\n",
    "print(cm)\n",
    "accuracy_score(y_test, y_pred)"
   ]
  },
  {
   "cell_type": "markdown",
   "metadata": {},
   "source": [
    "# Save The Model\n"
   ]
  },
  {
   "cell_type": "code",
   "execution_count": 20,
   "metadata": {},
   "outputs": [
    {
     "name": "stdout",
     "output_type": "stream",
     "text": [
      "WARNING:tensorflow:From /Users/mohammedsohilshaikh/opt/anaconda3/envs/Churn_Modelling_ANN/lib/python3.7/site-packages/tensorflow_core/python/ops/resource_variable_ops.py:1781: calling BaseResourceVariable.__init__ (from tensorflow.python.ops.resource_variable_ops) with constraint is deprecated and will be removed in a future version.\n",
      "Instructions for updating:\n",
      "If using Keras pass *_constraint arguments to layers.\n",
      "INFO:tensorflow:Assets written to: classifier/assets\n"
     ]
    }
   ],
   "source": [
    "ann.save('classifier')"
   ]
  },
  {
   "cell_type": "code",
   "execution_count": 21,
   "metadata": {},
   "outputs": [
    {
     "name": "stdout",
     "output_type": "stream",
     "text": [
      "Model: \"sequential\"\n",
      "_________________________________________________________________\n",
      "Layer (type)                 Output Shape              Param #   \n",
      "=================================================================\n",
      "dense (Dense)                multiple                  78        \n",
      "_________________________________________________________________\n",
      "dense_1 (Dense)              multiple                  42        \n",
      "_________________________________________________________________\n",
      "dense_2 (Dense)              multiple                  7         \n",
      "=================================================================\n",
      "Total params: 127\n",
      "Trainable params: 127\n",
      "Non-trainable params: 0\n",
      "_________________________________________________________________\n"
     ]
    }
   ],
   "source": [
    "ann.summary()"
   ]
  },
  {
   "cell_type": "code",
   "execution_count": 22,
   "metadata": {},
   "outputs": [],
   "source": [
    "model = tf.keras.models.load_model('classifier')"
   ]
  },
  {
   "cell_type": "code",
   "execution_count": 23,
   "metadata": {},
   "outputs": [
    {
     "name": "stdout",
     "output_type": "stream",
     "text": [
      "Model: \"sequential\"\n",
      "_________________________________________________________________\n",
      "Layer (type)                 Output Shape              Param #   \n",
      "=================================================================\n",
      "dense (Dense)                multiple                  78        \n",
      "_________________________________________________________________\n",
      "dense_1 (Dense)              multiple                  42        \n",
      "_________________________________________________________________\n",
      "dense_2 (Dense)              multiple                  7         \n",
      "=================================================================\n",
      "Total params: 127\n",
      "Trainable params: 127\n",
      "Non-trainable params: 0\n",
      "_________________________________________________________________\n"
     ]
    }
   ],
   "source": [
    "model.summary()"
   ]
  },
  {
   "cell_type": "code",
   "execution_count": 25,
   "metadata": {},
   "outputs": [
    {
     "data": {
      "text/plain": [
       "[array([[-1.09071709e-01, -5.26197068e-02, -4.12550643e-02,\n",
       "         -8.28270894e-03, -5.18310606e-01, -3.87636311e-02],\n",
       "        [-4.32780355e-01,  7.38820136e-02, -2.98477113e-01,\n",
       "          3.97509217e-01, -4.48328733e-01,  8.75928625e-02],\n",
       "        [ 1.33783892e-01,  7.03667775e-02,  3.17883909e-01,\n",
       "          1.29268974e-01, -4.67828780e-01,  1.15910638e-02],\n",
       "        [ 2.72520501e-02,  1.09965168e-02,  1.63411677e-01,\n",
       "          3.73715498e-02,  3.40494365e-02, -1.92234982e-02],\n",
       "        [ 2.13530555e-01, -2.35157758e-01,  3.84055197e-01,\n",
       "          5.10781445e-02,  3.93008552e-02, -1.10715002e-01],\n",
       "        [-6.65034130e-02,  6.21526763e-02,  5.34023225e-01,\n",
       "         -1.94712684e-01, -1.07663500e+00, -4.96545769e-02],\n",
       "        [-2.19123274e-01,  3.47131222e-01,  1.57182902e-01,\n",
       "          3.70307118e-02,  9.73112066e-04, -4.67001870e-02],\n",
       "        [ 3.25861752e-01, -1.23146497e-01, -4.37039047e-01,\n",
       "         -8.11721742e-01, -2.69245431e-02,  4.67457712e-01],\n",
       "        [ 1.01058936e+00,  7.21318841e-01,  5.23287058e-01,\n",
       "         -1.01794386e+00, -6.52785972e-02, -8.21033776e-01],\n",
       "        [ 1.44738015e-02,  2.95870285e-02,  7.88474828e-02,\n",
       "         -5.80519997e-02,  5.20533603e-03,  9.16527882e-02],\n",
       "        [-4.55604680e-02, -4.85171735e-01,  9.08474147e-01,\n",
       "          2.42533069e-02, -5.66559494e-01, -1.12248731e+00],\n",
       "        [-1.01292573e-01,  2.10047930e-01, -6.60386309e-02,\n",
       "         -3.39336949e-03,  1.83941126e-02,  2.28313506e-02]], dtype=float32),\n",
       " array([-0.5614154 , -0.23792706,  0.50421417, -0.11808107,  1.4745729 ,\n",
       "         0.22871026], dtype=float32),\n",
       " array([[-0.5362317 , -0.19816895, -0.07026941,  0.03879519,  1.2916669 ,\n",
       "         -0.61402965],\n",
       "        [-0.17793347, -0.19058831, -0.40581852,  0.20956925,  0.7759485 ,\n",
       "         -0.64225817],\n",
       "        [-0.26280388,  0.8175731 , -0.19081664,  0.40941447, -0.19284706,\n",
       "          0.0384299 ],\n",
       "        [-0.05850407, -0.5936345 , -0.10173339,  0.772534  , -1.6380299 ,\n",
       "         -0.24859151],\n",
       "        [-0.00587369,  0.62710625, -0.15119457, -1.1184826 , -0.47257337,\n",
       "         -0.18844049],\n",
       "        [ 0.00240848, -0.38290548, -0.0944435 ,  0.64043486, -0.7604354 ,\n",
       "         -0.3128111 ]], dtype=float32),\n",
       " array([-0.0690548 ,  0.6068852 ,  0.        ,  0.49237242,  0.04243458,\n",
       "        -0.38002038], dtype=float32),\n",
       " array([[ 0.36339763],\n",
       "        [-1.4844825 ],\n",
       "        [ 0.58009815],\n",
       "        [ 1.0533862 ],\n",
       "        [ 1.5502487 ],\n",
       "        [ 0.7097625 ]], dtype=float32),\n",
       " array([-0.05279489], dtype=float32)]"
      ]
     },
     "execution_count": 25,
     "metadata": {},
     "output_type": "execute_result"
    }
   ],
   "source": [
    "ann.get_weights()"
   ]
  },
  {
   "cell_type": "code",
   "execution_count": 26,
   "metadata": {},
   "outputs": [
    {
     "data": {
      "text/plain": [
       "[array([[-1.09071709e-01, -5.26197068e-02, -4.12550643e-02,\n",
       "         -8.28270894e-03, -5.18310606e-01, -3.87636311e-02],\n",
       "        [-4.32780355e-01,  7.38820136e-02, -2.98477113e-01,\n",
       "          3.97509217e-01, -4.48328733e-01,  8.75928625e-02],\n",
       "        [ 1.33783892e-01,  7.03667775e-02,  3.17883909e-01,\n",
       "          1.29268974e-01, -4.67828780e-01,  1.15910638e-02],\n",
       "        [ 2.72520501e-02,  1.09965168e-02,  1.63411677e-01,\n",
       "          3.73715498e-02,  3.40494365e-02, -1.92234982e-02],\n",
       "        [ 2.13530555e-01, -2.35157758e-01,  3.84055197e-01,\n",
       "          5.10781445e-02,  3.93008552e-02, -1.10715002e-01],\n",
       "        [-6.65034130e-02,  6.21526763e-02,  5.34023225e-01,\n",
       "         -1.94712684e-01, -1.07663500e+00, -4.96545769e-02],\n",
       "        [-2.19123274e-01,  3.47131222e-01,  1.57182902e-01,\n",
       "          3.70307118e-02,  9.73112066e-04, -4.67001870e-02],\n",
       "        [ 3.25861752e-01, -1.23146497e-01, -4.37039047e-01,\n",
       "         -8.11721742e-01, -2.69245431e-02,  4.67457712e-01],\n",
       "        [ 1.01058936e+00,  7.21318841e-01,  5.23287058e-01,\n",
       "         -1.01794386e+00, -6.52785972e-02, -8.21033776e-01],\n",
       "        [ 1.44738015e-02,  2.95870285e-02,  7.88474828e-02,\n",
       "         -5.80519997e-02,  5.20533603e-03,  9.16527882e-02],\n",
       "        [-4.55604680e-02, -4.85171735e-01,  9.08474147e-01,\n",
       "          2.42533069e-02, -5.66559494e-01, -1.12248731e+00],\n",
       "        [-1.01292573e-01,  2.10047930e-01, -6.60386309e-02,\n",
       "         -3.39336949e-03,  1.83941126e-02,  2.28313506e-02]], dtype=float32),\n",
       " array([-0.5614154 , -0.23792706,  0.50421417, -0.11808107,  1.4745729 ,\n",
       "         0.22871026], dtype=float32),\n",
       " array([[-0.5362317 , -0.19816895, -0.07026941,  0.03879519,  1.2916669 ,\n",
       "         -0.61402965],\n",
       "        [-0.17793347, -0.19058831, -0.40581852,  0.20956925,  0.7759485 ,\n",
       "         -0.64225817],\n",
       "        [-0.26280388,  0.8175731 , -0.19081664,  0.40941447, -0.19284706,\n",
       "          0.0384299 ],\n",
       "        [-0.05850407, -0.5936345 , -0.10173339,  0.772534  , -1.6380299 ,\n",
       "         -0.24859151],\n",
       "        [-0.00587369,  0.62710625, -0.15119457, -1.1184826 , -0.47257337,\n",
       "         -0.18844049],\n",
       "        [ 0.00240848, -0.38290548, -0.0944435 ,  0.64043486, -0.7604354 ,\n",
       "         -0.3128111 ]], dtype=float32),\n",
       " array([-0.0690548 ,  0.6068852 ,  0.        ,  0.49237242,  0.04243458,\n",
       "        -0.38002038], dtype=float32),\n",
       " array([[ 0.36339763],\n",
       "        [-1.4844825 ],\n",
       "        [ 0.58009815],\n",
       "        [ 1.0533862 ],\n",
       "        [ 1.5502487 ],\n",
       "        [ 0.7097625 ]], dtype=float32),\n",
       " array([-0.05279489], dtype=float32)]"
      ]
     },
     "execution_count": 26,
     "metadata": {},
     "output_type": "execute_result"
    }
   ],
   "source": [
    "model.get_weights()"
   ]
  },
  {
   "cell_type": "markdown",
   "metadata": {},
   "source": [
    "# Save the scaler\n"
   ]
  },
  {
   "cell_type": "code",
   "execution_count": 24,
   "metadata": {},
   "outputs": [
    {
     "data": {
      "text/plain": [
       "['scaler']"
      ]
     },
     "execution_count": 24,
     "metadata": {},
     "output_type": "execute_result"
    }
   ],
   "source": [
    "import joblib\n",
    "joblib.dump(sc, 'scaler', compress=True)"
   ]
  },
  {
   "cell_type": "code",
   "execution_count": 34,
   "metadata": {},
   "outputs": [
    {
     "data": {
      "text/plain": [
       "array([[0.5141106]], dtype=float32)"
      ]
     },
     "execution_count": 34,
     "metadata": {},
     "output_type": "execute_result"
    }
   ],
   "source": [
    "ann.predict(sc.transform([[1, 0, 0, 600, 1, 40, 3, 100000, 2, 1, 1, 1000000]])) "
   ]
  },
  {
   "cell_type": "code",
   "execution_count": 28,
   "metadata": {},
   "outputs": [
    {
     "data": {
      "text/plain": [
       "array([[0.0247304]], dtype=float32)"
      ]
     },
     "execution_count": 28,
     "metadata": {},
     "output_type": "execute_result"
    }
   ],
   "source": [
    "model.predict(sc.transform([[1, 0, 0, 600, 1, 40, 3, 50000, 2, 1, 1, 60000]])) "
   ]
  },
  {
   "cell_type": "code",
   "execution_count": null,
   "metadata": {},
   "outputs": [],
   "source": []
  }
 ],
 "metadata": {
  "colab": {
   "collapsed_sections": [],
   "name": "Copy of artificial_neural_network.ipynb",
   "provenance": []
  },
  "kernelspec": {
   "display_name": "Python 3",
   "language": "python",
   "name": "python3"
  },
  "language_info": {
   "codemirror_mode": {
    "name": "ipython",
    "version": 3
   },
   "file_extension": ".py",
   "mimetype": "text/x-python",
   "name": "python",
   "nbconvert_exporter": "python",
   "pygments_lexer": "ipython3",
   "version": "3.7.10"
  }
 },
 "nbformat": 4,
 "nbformat_minor": 1
}
